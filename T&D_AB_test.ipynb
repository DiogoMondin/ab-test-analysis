{
  "nbformat": 4,
  "nbformat_minor": 0,
  "metadata": {
    "colab": {
      "provenance": [],
      "toc_visible": true,
      "authorship_tag": "ABX9TyMuAaqNaF90tftOiDi1mHjJ",
      "include_colab_link": true
    },
    "kernelspec": {
      "name": "python3",
      "display_name": "Python 3"
    },
    "language_info": {
      "name": "python"
    }
  },
  "cells": [
    {
      "cell_type": "markdown",
      "metadata": {
        "id": "view-in-github",
        "colab_type": "text"
      },
      "source": [
        "<a href=\"https://colab.research.google.com/github/DiogoMondin/ab-test-analysis/blob/main/T%26D_AB_test.ipynb\" target=\"_parent\"><img src=\"https://colab.research.google.com/assets/colab-badge.svg\" alt=\"Open In Colab\"/></a>"
      ]
    },
    {
      "cell_type": "markdown",
      "source": [
        "# Imports"
      ],
      "metadata": {
        "id": "wM0yvviEDTI-"
      }
    },
    {
      "cell_type": "code",
      "source": [
        "import kagglehub\n",
        "import os\n",
        "\n",
        "import pandas as pd\n",
        "import matplotlib.pyplot as plt\n",
        "import seaborn as sns\n",
        "import numpy as np\n",
        "\n",
        "import scipy.stats as stats\n",
        "import statsmodels.stats.proportion as proportion\n",
        "import statsmodels.stats.power as power\n",
        "from statsmodels.stats.proportion import proportion_effectsize\n",
        "\n",
        "from pyspark.sql import SparkSession\n",
        "import pyspark.sql.functions as F\n",
        "import warnings\n",
        "warnings.filterwarnings('ignore')"
      ],
      "metadata": {
        "id": "7XxF27VqBoUm"
      },
      "execution_count": 1,
      "outputs": []
    },
    {
      "cell_type": "markdown",
      "source": [
        " # Data Input"
      ],
      "metadata": {
        "id": "FQlqOP3nDV7e"
      }
    },
    {
      "cell_type": "code",
      "execution_count": 2,
      "metadata": {
        "colab": {
          "base_uri": "https://localhost:8080/"
        },
        "id": "8gOZMG0LBhYJ",
        "outputId": "1fa32152-ce2b-4f54-b389-d940b0805d04"
      },
      "outputs": [
        {
          "output_type": "stream",
          "name": "stdout",
          "text": [
            "/kaggle/input/marketing-ab-testing/marketing_AB.csv\n"
          ]
        }
      ],
      "source": [
        "path = kagglehub.dataset_download(\"faviovaz/marketing-ab-testing\")\n",
        "\n",
        "for root, dirs, files in os.walk(path):\n",
        "    for file in files:\n",
        "        print(os.path.join(root, file))"
      ]
    },
    {
      "cell_type": "markdown",
      "source": [
        "# Data Exploring"
      ],
      "metadata": {
        "id": "ANubXA4gDYeT"
      }
    },
    {
      "cell_type": "code",
      "source": [
        "ab_test_pd = pd.read_csv(\"/kaggle/input/marketing-ab-testing/marketing_AB.csv\")\n",
        "ab_test_pd.describe()"
      ],
      "metadata": {
        "colab": {
          "base_uri": "https://localhost:8080/",
          "height": 300
        },
        "id": "VFT2SL08B9Vm",
        "outputId": "c60f76a5-5165-490d-eb21-1c654ccbd5b1"
      },
      "execution_count": 3,
      "outputs": [
        {
          "output_type": "execute_result",
          "data": {
            "text/plain": [
              "          Unnamed: 0       user id      total ads  most ads hour\n",
              "count  588101.000000  5.881010e+05  588101.000000  588101.000000\n",
              "mean   294050.000000  1.310692e+06      24.820876      14.469061\n",
              "std    169770.279667  2.022260e+05      43.715181       4.834634\n",
              "min         0.000000  9.000000e+05       1.000000       0.000000\n",
              "25%    147025.000000  1.143190e+06       4.000000      11.000000\n",
              "50%    294050.000000  1.313725e+06      13.000000      14.000000\n",
              "75%    441075.000000  1.484088e+06      27.000000      18.000000\n",
              "max    588100.000000  1.654483e+06    2065.000000      23.000000"
            ],
            "text/html": [
              "\n",
              "  <div id=\"df-4c72d7e0-1606-4e88-aa25-976674ea86a3\" class=\"colab-df-container\">\n",
              "    <div>\n",
              "<style scoped>\n",
              "    .dataframe tbody tr th:only-of-type {\n",
              "        vertical-align: middle;\n",
              "    }\n",
              "\n",
              "    .dataframe tbody tr th {\n",
              "        vertical-align: top;\n",
              "    }\n",
              "\n",
              "    .dataframe thead th {\n",
              "        text-align: right;\n",
              "    }\n",
              "</style>\n",
              "<table border=\"1\" class=\"dataframe\">\n",
              "  <thead>\n",
              "    <tr style=\"text-align: right;\">\n",
              "      <th></th>\n",
              "      <th>Unnamed: 0</th>\n",
              "      <th>user id</th>\n",
              "      <th>total ads</th>\n",
              "      <th>most ads hour</th>\n",
              "    </tr>\n",
              "  </thead>\n",
              "  <tbody>\n",
              "    <tr>\n",
              "      <th>count</th>\n",
              "      <td>588101.000000</td>\n",
              "      <td>5.881010e+05</td>\n",
              "      <td>588101.000000</td>\n",
              "      <td>588101.000000</td>\n",
              "    </tr>\n",
              "    <tr>\n",
              "      <th>mean</th>\n",
              "      <td>294050.000000</td>\n",
              "      <td>1.310692e+06</td>\n",
              "      <td>24.820876</td>\n",
              "      <td>14.469061</td>\n",
              "    </tr>\n",
              "    <tr>\n",
              "      <th>std</th>\n",
              "      <td>169770.279667</td>\n",
              "      <td>2.022260e+05</td>\n",
              "      <td>43.715181</td>\n",
              "      <td>4.834634</td>\n",
              "    </tr>\n",
              "    <tr>\n",
              "      <th>min</th>\n",
              "      <td>0.000000</td>\n",
              "      <td>9.000000e+05</td>\n",
              "      <td>1.000000</td>\n",
              "      <td>0.000000</td>\n",
              "    </tr>\n",
              "    <tr>\n",
              "      <th>25%</th>\n",
              "      <td>147025.000000</td>\n",
              "      <td>1.143190e+06</td>\n",
              "      <td>4.000000</td>\n",
              "      <td>11.000000</td>\n",
              "    </tr>\n",
              "    <tr>\n",
              "      <th>50%</th>\n",
              "      <td>294050.000000</td>\n",
              "      <td>1.313725e+06</td>\n",
              "      <td>13.000000</td>\n",
              "      <td>14.000000</td>\n",
              "    </tr>\n",
              "    <tr>\n",
              "      <th>75%</th>\n",
              "      <td>441075.000000</td>\n",
              "      <td>1.484088e+06</td>\n",
              "      <td>27.000000</td>\n",
              "      <td>18.000000</td>\n",
              "    </tr>\n",
              "    <tr>\n",
              "      <th>max</th>\n",
              "      <td>588100.000000</td>\n",
              "      <td>1.654483e+06</td>\n",
              "      <td>2065.000000</td>\n",
              "      <td>23.000000</td>\n",
              "    </tr>\n",
              "  </tbody>\n",
              "</table>\n",
              "</div>\n",
              "    <div class=\"colab-df-buttons\">\n",
              "\n",
              "  <div class=\"colab-df-container\">\n",
              "    <button class=\"colab-df-convert\" onclick=\"convertToInteractive('df-4c72d7e0-1606-4e88-aa25-976674ea86a3')\"\n",
              "            title=\"Convert this dataframe to an interactive table.\"\n",
              "            style=\"display:none;\">\n",
              "\n",
              "  <svg xmlns=\"http://www.w3.org/2000/svg\" height=\"24px\" viewBox=\"0 -960 960 960\">\n",
              "    <path d=\"M120-120v-720h720v720H120Zm60-500h600v-160H180v160Zm220 220h160v-160H400v160Zm0 220h160v-160H400v160ZM180-400h160v-160H180v160Zm440 0h160v-160H620v160ZM180-180h160v-160H180v160Zm440 0h160v-160H620v160Z\"/>\n",
              "  </svg>\n",
              "    </button>\n",
              "\n",
              "  <style>\n",
              "    .colab-df-container {\n",
              "      display:flex;\n",
              "      gap: 12px;\n",
              "    }\n",
              "\n",
              "    .colab-df-convert {\n",
              "      background-color: #E8F0FE;\n",
              "      border: none;\n",
              "      border-radius: 50%;\n",
              "      cursor: pointer;\n",
              "      display: none;\n",
              "      fill: #1967D2;\n",
              "      height: 32px;\n",
              "      padding: 0 0 0 0;\n",
              "      width: 32px;\n",
              "    }\n",
              "\n",
              "    .colab-df-convert:hover {\n",
              "      background-color: #E2EBFA;\n",
              "      box-shadow: 0px 1px 2px rgba(60, 64, 67, 0.3), 0px 1px 3px 1px rgba(60, 64, 67, 0.15);\n",
              "      fill: #174EA6;\n",
              "    }\n",
              "\n",
              "    .colab-df-buttons div {\n",
              "      margin-bottom: 4px;\n",
              "    }\n",
              "\n",
              "    [theme=dark] .colab-df-convert {\n",
              "      background-color: #3B4455;\n",
              "      fill: #D2E3FC;\n",
              "    }\n",
              "\n",
              "    [theme=dark] .colab-df-convert:hover {\n",
              "      background-color: #434B5C;\n",
              "      box-shadow: 0px 1px 3px 1px rgba(0, 0, 0, 0.15);\n",
              "      filter: drop-shadow(0px 1px 2px rgba(0, 0, 0, 0.3));\n",
              "      fill: #FFFFFF;\n",
              "    }\n",
              "  </style>\n",
              "\n",
              "    <script>\n",
              "      const buttonEl =\n",
              "        document.querySelector('#df-4c72d7e0-1606-4e88-aa25-976674ea86a3 button.colab-df-convert');\n",
              "      buttonEl.style.display =\n",
              "        google.colab.kernel.accessAllowed ? 'block' : 'none';\n",
              "\n",
              "      async function convertToInteractive(key) {\n",
              "        const element = document.querySelector('#df-4c72d7e0-1606-4e88-aa25-976674ea86a3');\n",
              "        const dataTable =\n",
              "          await google.colab.kernel.invokeFunction('convertToInteractive',\n",
              "                                                    [key], {});\n",
              "        if (!dataTable) return;\n",
              "\n",
              "        const docLinkHtml = 'Like what you see? Visit the ' +\n",
              "          '<a target=\"_blank\" href=https://colab.research.google.com/notebooks/data_table.ipynb>data table notebook</a>'\n",
              "          + ' to learn more about interactive tables.';\n",
              "        element.innerHTML = '';\n",
              "        dataTable['output_type'] = 'display_data';\n",
              "        await google.colab.output.renderOutput(dataTable, element);\n",
              "        const docLink = document.createElement('div');\n",
              "        docLink.innerHTML = docLinkHtml;\n",
              "        element.appendChild(docLink);\n",
              "      }\n",
              "    </script>\n",
              "  </div>\n",
              "\n",
              "\n",
              "    <div id=\"df-d042d55f-dddb-42a6-a2b9-7c05e324faf4\">\n",
              "      <button class=\"colab-df-quickchart\" onclick=\"quickchart('df-d042d55f-dddb-42a6-a2b9-7c05e324faf4')\"\n",
              "                title=\"Suggest charts\"\n",
              "                style=\"display:none;\">\n",
              "\n",
              "<svg xmlns=\"http://www.w3.org/2000/svg\" height=\"24px\"viewBox=\"0 0 24 24\"\n",
              "     width=\"24px\">\n",
              "    <g>\n",
              "        <path d=\"M19 3H5c-1.1 0-2 .9-2 2v14c0 1.1.9 2 2 2h14c1.1 0 2-.9 2-2V5c0-1.1-.9-2-2-2zM9 17H7v-7h2v7zm4 0h-2V7h2v10zm4 0h-2v-4h2v4z\"/>\n",
              "    </g>\n",
              "</svg>\n",
              "      </button>\n",
              "\n",
              "<style>\n",
              "  .colab-df-quickchart {\n",
              "      --bg-color: #E8F0FE;\n",
              "      --fill-color: #1967D2;\n",
              "      --hover-bg-color: #E2EBFA;\n",
              "      --hover-fill-color: #174EA6;\n",
              "      --disabled-fill-color: #AAA;\n",
              "      --disabled-bg-color: #DDD;\n",
              "  }\n",
              "\n",
              "  [theme=dark] .colab-df-quickchart {\n",
              "      --bg-color: #3B4455;\n",
              "      --fill-color: #D2E3FC;\n",
              "      --hover-bg-color: #434B5C;\n",
              "      --hover-fill-color: #FFFFFF;\n",
              "      --disabled-bg-color: #3B4455;\n",
              "      --disabled-fill-color: #666;\n",
              "  }\n",
              "\n",
              "  .colab-df-quickchart {\n",
              "    background-color: var(--bg-color);\n",
              "    border: none;\n",
              "    border-radius: 50%;\n",
              "    cursor: pointer;\n",
              "    display: none;\n",
              "    fill: var(--fill-color);\n",
              "    height: 32px;\n",
              "    padding: 0;\n",
              "    width: 32px;\n",
              "  }\n",
              "\n",
              "  .colab-df-quickchart:hover {\n",
              "    background-color: var(--hover-bg-color);\n",
              "    box-shadow: 0 1px 2px rgba(60, 64, 67, 0.3), 0 1px 3px 1px rgba(60, 64, 67, 0.15);\n",
              "    fill: var(--button-hover-fill-color);\n",
              "  }\n",
              "\n",
              "  .colab-df-quickchart-complete:disabled,\n",
              "  .colab-df-quickchart-complete:disabled:hover {\n",
              "    background-color: var(--disabled-bg-color);\n",
              "    fill: var(--disabled-fill-color);\n",
              "    box-shadow: none;\n",
              "  }\n",
              "\n",
              "  .colab-df-spinner {\n",
              "    border: 2px solid var(--fill-color);\n",
              "    border-color: transparent;\n",
              "    border-bottom-color: var(--fill-color);\n",
              "    animation:\n",
              "      spin 1s steps(1) infinite;\n",
              "  }\n",
              "\n",
              "  @keyframes spin {\n",
              "    0% {\n",
              "      border-color: transparent;\n",
              "      border-bottom-color: var(--fill-color);\n",
              "      border-left-color: var(--fill-color);\n",
              "    }\n",
              "    20% {\n",
              "      border-color: transparent;\n",
              "      border-left-color: var(--fill-color);\n",
              "      border-top-color: var(--fill-color);\n",
              "    }\n",
              "    30% {\n",
              "      border-color: transparent;\n",
              "      border-left-color: var(--fill-color);\n",
              "      border-top-color: var(--fill-color);\n",
              "      border-right-color: var(--fill-color);\n",
              "    }\n",
              "    40% {\n",
              "      border-color: transparent;\n",
              "      border-right-color: var(--fill-color);\n",
              "      border-top-color: var(--fill-color);\n",
              "    }\n",
              "    60% {\n",
              "      border-color: transparent;\n",
              "      border-right-color: var(--fill-color);\n",
              "    }\n",
              "    80% {\n",
              "      border-color: transparent;\n",
              "      border-right-color: var(--fill-color);\n",
              "      border-bottom-color: var(--fill-color);\n",
              "    }\n",
              "    90% {\n",
              "      border-color: transparent;\n",
              "      border-bottom-color: var(--fill-color);\n",
              "    }\n",
              "  }\n",
              "</style>\n",
              "\n",
              "      <script>\n",
              "        async function quickchart(key) {\n",
              "          const quickchartButtonEl =\n",
              "            document.querySelector('#' + key + ' button');\n",
              "          quickchartButtonEl.disabled = true;  // To prevent multiple clicks.\n",
              "          quickchartButtonEl.classList.add('colab-df-spinner');\n",
              "          try {\n",
              "            const charts = await google.colab.kernel.invokeFunction(\n",
              "                'suggestCharts', [key], {});\n",
              "          } catch (error) {\n",
              "            console.error('Error during call to suggestCharts:', error);\n",
              "          }\n",
              "          quickchartButtonEl.classList.remove('colab-df-spinner');\n",
              "          quickchartButtonEl.classList.add('colab-df-quickchart-complete');\n",
              "        }\n",
              "        (() => {\n",
              "          let quickchartButtonEl =\n",
              "            document.querySelector('#df-d042d55f-dddb-42a6-a2b9-7c05e324faf4 button');\n",
              "          quickchartButtonEl.style.display =\n",
              "            google.colab.kernel.accessAllowed ? 'block' : 'none';\n",
              "        })();\n",
              "      </script>\n",
              "    </div>\n",
              "\n",
              "    </div>\n",
              "  </div>\n"
            ],
            "application/vnd.google.colaboratory.intrinsic+json": {
              "type": "dataframe",
              "summary": "{\n  \"name\": \"ab_test_pd\",\n  \"rows\": 8,\n  \"fields\": [\n    {\n      \"column\": \"Unnamed: 0\",\n      \"properties\": {\n        \"dtype\": \"number\",\n        \"std\": 211954.22680109803,\n        \"min\": 0.0,\n        \"max\": 588101.0,\n        \"num_unique_values\": 7,\n        \"samples\": [\n          588101.0,\n          294050.0,\n          441075.0\n        ],\n        \"semantic_type\": \"\",\n        \"description\": \"\"\n      }\n    },\n    {\n      \"column\": \"user id\",\n      \"properties\": {\n        \"dtype\": \"number\",\n        \"std\": 485470.67814461567,\n        \"min\": 202225.98312774944,\n        \"max\": 1654483.0,\n        \"num_unique_values\": 8,\n        \"samples\": [\n          1310692.2157928655,\n          1313725.0,\n          588101.0\n        ],\n        \"semantic_type\": \"\",\n        \"description\": \"\"\n      }\n    },\n    {\n      \"column\": \"total ads\",\n      \"properties\": {\n        \"dtype\": \"number\",\n        \"std\": 207816.30368195256,\n        \"min\": 1.0,\n        \"max\": 588101.0,\n        \"num_unique_values\": 8,\n        \"samples\": [\n          24.82087600599217,\n          13.0,\n          588101.0\n        ],\n        \"semantic_type\": \"\",\n        \"description\": \"\"\n      }\n    },\n    {\n      \"column\": \"most ads hour\",\n      \"properties\": {\n        \"dtype\": \"number\",\n        \"std\": 207920.79419886248,\n        \"min\": 0.0,\n        \"max\": 588101.0,\n        \"num_unique_values\": 8,\n        \"samples\": [\n          14.469060586531905,\n          14.0,\n          588101.0\n        ],\n        \"semantic_type\": \"\",\n        \"description\": \"\"\n      }\n    }\n  ]\n}"
            }
          },
          "metadata": {},
          "execution_count": 3
        }
      ]
    },
    {
      "cell_type": "code",
      "source": [
        "spark = SparkSession.builder \\\n",
        "    .appName(\"Marketing_AB_Testing_Analysis\") \\\n",
        "    .config(\"spark.sql.adaptive.enabled\", \"true\") \\\n",
        "    .config(\"spark.sql.adaptive.coalescePartitions.enabled\", \"true\") \\\n",
        "    .getOrCreate()\n",
        "\n",
        "ab_test_df = spark.createDataFrame(ab_test_pd)"
      ],
      "metadata": {
        "id": "gO-ey-tVdVLj"
      },
      "execution_count": 4,
      "outputs": []
    },
    {
      "cell_type": "markdown",
      "source": [
        "# 1. Group Conversion Analysis"
      ],
      "metadata": {
        "id": "3sIL0ZtEK8BB"
      }
    },
    {
      "cell_type": "code",
      "source": [
        "# Calculate conversion rate\n",
        "conversion_results = (\n",
        "    ab_test_df\n",
        "    .groupBy(\"test group\")\n",
        "    .agg(\n",
        "        F.count(\"*\").alias(\"total_users\"),\n",
        "        F.sum(F.when(F.col(\"converted\") == True, 1).otherwise(0)).alias(\"conversions\"),\n",
        "        F.avg(F.when(F.col(\"converted\") == True, 1).otherwise(0)).alias(\"conversion_rate\")\n",
        "    )\n",
        "    .collect()\n",
        ")\n",
        "\n",
        "# Extract data from clusters\n",
        "ad_data = [r for r in conversion_results if r[\"test group\"] == \"ad\"][0]\n",
        "psa_data = [r for r in conversion_results if r[\"test group\"] == \"psa\"][0]\n",
        "\n",
        "# Statistics variables\n",
        "ad_successes = ad_data[\"conversions\"]\n",
        "ad_total = ad_data[\"total_users\"]\n",
        "psa_successes = psa_data[\"conversions\"]\n",
        "psa_total = psa_data[\"total_users\"]\n",
        "\n",
        "ad_rate = ad_data[\"conversion_rate\"]\n",
        "psa_rate = psa_data[\"conversion_rate\"]\n",
        "lift = ((ad_rate - psa_rate) / psa_rate) * 100\n",
        "\n",
        "print(f\"\\n Group analysis:\")\n",
        "print(f\"   AD: {ad_rate:.1%} conversion ({ad_successes:,}/{ad_total:,})\")\n",
        "print(f\"   PSA: {psa_rate:.1%} conversion ({psa_successes:,}/{psa_total:,})\")\n",
        "print(f\"   Lift: {lift:+.1f}%\")"
      ],
      "metadata": {
        "colab": {
          "base_uri": "https://localhost:8080/"
        },
        "id": "DvWRdOBjJvQx",
        "outputId": "66d3e693-fd6e-49cb-9ad4-c01889987dd4"
      },
      "execution_count": 5,
      "outputs": [
        {
          "output_type": "stream",
          "name": "stdout",
          "text": [
            "\n",
            " Group analysis:\n",
            "   AD: 2.6% conversion (14,423/564,577)\n",
            "   PSA: 1.8% conversion (420/23,524)\n",
            "   Lift: +43.1%\n"
          ]
        }
      ]
    },
    {
      "cell_type": "markdown",
      "source": [
        "# 2. Advanced Metrics"
      ],
      "metadata": {
        "id": "QXC4rGHjK5-7"
      }
    },
    {
      "cell_type": "markdown",
      "source": [
        "#### 2.1 Z-test"
      ],
      "metadata": {
        "id": "RTaGpCzXO9j4"
      }
    },
    {
      "cell_type": "code",
      "source": [
        "z_stat, p_value = proportion.proportions_ztest(\n",
        "    [ad_successes, psa_successes],\n",
        "    [ad_total, psa_total]\n",
        ")\n",
        "print(f\"   Z: {z_stat:.4f}\")\n",
        "print(f\"   P-value: {p_value:.16f} ({'Significant' if p_value < 0.07 else 'Non significant'})\")"
      ],
      "metadata": {
        "colab": {
          "base_uri": "https://localhost:8080/"
        },
        "id": "Rbza9vQpIl0m",
        "outputId": "41f51f33-a50e-4174-a6b5-af13b90f5235"
      },
      "execution_count": 27,
      "outputs": [
        {
          "output_type": "stream",
          "name": "stdout",
          "text": [
            "   Z: 7.3701\n",
            "   P-value: 0.0000000000001705 (Significant)\n"
          ]
        }
      ]
    },
    {
      "cell_type": "markdown",
      "source": [
        "#### 2.2 IC"
      ],
      "metadata": {
        "id": "apOrSlFmRZJC"
      }
    },
    {
      "cell_type": "code",
      "source": [
        "try:\n",
        "    ci_lower, ci_upper = proportion.confint_proportions_2indep(\n",
        "        ad_successes, ad_total, psa_successes, psa_total, alpha=0.05\n",
        "    )\n",
        "    difference = ad_rate - psa_rate\n",
        "    print(f\"   Difference: {difference:.4f} ({difference*100:+.2f}%)\")\n",
        "    print(f\"   IC 95%: [{ci_lower:.4f}, {ci_upper:.4f}]\")\n",
        "    print(f\"   Margin of error: ±{(ci_upper - ci_lower)/2:.4f}\")\n",
        "\n",
        "    # Interpretation do IC\n",
        "    if ci_lower > 0:\n",
        "        ci_interpretation = \"AD group is significantly better\"\n",
        "    elif ci_upper < 0:\n",
        "        ci_interpretation = \"PSA group is significantly better\"\n",
        "    else:\n",
        "        ci_interpretation = \"No significant difference\"\n",
        "    print(f\"   Conclusion: {ci_interpretation}\")\n",
        "\n",
        "except Exception as e:\n",
        "    print(f\"   IC error: {e}\")\n",
        "    difference = ad_rate - psa_rate\n",
        "    print(f\"   Difference: {difference:.4f} ({difference*100:+.2f}%)\")"
      ],
      "metadata": {
        "colab": {
          "base_uri": "https://localhost:8080/"
        },
        "id": "i8bvtJa7LEkP",
        "outputId": "9fc279c5-b8a5-4c24-b6fe-e832d23a13e5"
      },
      "execution_count": 39,
      "outputs": [
        {
          "output_type": "stream",
          "name": "stdout",
          "text": [
            "   Difference: 0.0077 (+0.77%)\n",
            "   IC 95%: [0.0059, 0.0094]\n",
            "   Margin of error: ±0.0017\n",
            "   Conclusion: AD group is significantly better\n"
          ]
        }
      ]
    },
    {
      "cell_type": "markdown",
      "source": [
        "#### 2.3 TAMANHO DO EFEITO - Cohen's h"
      ],
      "metadata": {
        "id": "PEOg76Q5TtiR"
      }
    },
    {
      "cell_type": "code",
      "source": [
        "effect_size = proportion.proportion_effectsize(ad_rate, psa_rate)\n",
        "if abs(effect_size) >= 0.8:\n",
        "    effect_interpretation = \"Big\"\n",
        "elif abs(effect_size) >= 0.5:\n",
        "    effect_interpretation = \"Average\"\n",
        "elif abs(effect_size) >= 0.2:\n",
        "    effect_interpretation = \"Small\"\n",
        "else:\n",
        "    effect_interpretation = \"Very Small\"\n",
        "\n",
        "print(f\"   Cohen's h: {effect_size:.4f} ({effect_interpretation})\")"
      ],
      "metadata": {
        "colab": {
          "base_uri": "https://localhost:8080/"
        },
        "id": "xf36a3STLG17",
        "outputId": "3d166792-0ed0-443d-d800-79dfac948748"
      },
      "execution_count": 29,
      "outputs": [
        {
          "output_type": "stream",
          "name": "stdout",
          "text": [
            "   Cohen's h: 0.0530 (Very Small)\n"
          ]
        }
      ]
    },
    {
      "cell_type": "markdown",
      "source": [
        "#### 2.4 Statistic Power (Reduced sample)"
      ],
      "metadata": {
        "id": "dmhDb0YUTDc1"
      }
    },
    {
      "cell_type": "code",
      "source": [
        "min_sample_size = min(ad_total, psa_total)\n",
        "observed_power = power.ttest_power(effect_size, min_sample_size, alpha=0.05, alternative='two-sided')\n",
        "\n",
        "print(f\"   Observed Statistic Power: {observed_power:.3f} ({observed_power*100:.1f}%)\")\n",
        "print(f\"   Status: {'Adequate' if observed_power >= 0.8 else 'Low'} (ideal ≥80%)\")"
      ],
      "metadata": {
        "colab": {
          "base_uri": "https://localhost:8080/"
        },
        "id": "3nfTbqPIRX5E",
        "outputId": "313fe5d1-519d-4603-fc1c-69d88646623a"
      },
      "execution_count": 30,
      "outputs": [
        {
          "output_type": "stream",
          "name": "stdout",
          "text": [
            "   Observed Statistic Power: 1.000 (100.0%)\n",
            "   Status: Adequate (ideal ≥80%)\n"
          ]
        }
      ]
    },
    {
      "cell_type": "markdown",
      "source": [
        "#### 2.5 Alternative tests"
      ],
      "metadata": {
        "id": "_LTGFVOuTLE7"
      }
    },
    {
      "cell_type": "code",
      "source": [
        "# Chi²\n",
        "contingency = np.array([\n",
        "    [ad_successes, ad_total - ad_successes],\n",
        "    [psa_successes, psa_total - psa_successes]\n",
        "])\n",
        "chi2, p_chi2, dof, expected = stats.chi2_contingency(contingency)\n",
        "print(f\"   Chi²: {chi2:.4f} (p = {p_chi2:.16f})\")\n",
        "\n",
        "# Fisher\n",
        "odds_ratio, p_fisher = stats.fisher_exact(contingency)\n",
        "print(f\"   Fisher: OR = {odds_ratio:.4f} (p = {p_fisher:.16f})\")"
      ],
      "metadata": {
        "colab": {
          "base_uri": "https://localhost:8080/"
        },
        "id": "yAiLBOc8LMRE",
        "outputId": "8391d6f7-4b75-4820-bd6a-86ba6bdbb71f"
      },
      "execution_count": 31,
      "outputs": [
        {
          "output_type": "stream",
          "name": "stdout",
          "text": [
            "   Chi²: 54.0058 (p = 0.0000000000001999)\n",
            "   Fisher: OR = 1.4421 (p = 0.0000000000000105)\n"
          ]
        }
      ]
    },
    {
      "cell_type": "markdown",
      "source": [
        "#### 2.6 Standard Error and premise"
      ],
      "metadata": {
        "id": "r97DFjdQUBiD"
      }
    },
    {
      "cell_type": "code",
      "source": [
        "# Standard error for each group\n",
        "ad_se = np.sqrt(ad_rate * (1 - ad_rate) / ad_total)\n",
        "psa_se = np.sqrt(psa_rate * (1 - psa_rate) / psa_total)\n",
        "print(f\"   Standard Error AD group: {ad_se:.6f}\")\n",
        "print(f\"   Standard Error PSA group: {psa_se:.6f}\")\n",
        "\n",
        "min_expected = min(ad_successes, ad_total - ad_successes,\n",
        "                  psa_successes, psa_total - psa_successes)\n",
        "premises_ok = min_expected >= 5\n",
        "print(f\"   Premise fulfilled: {'Yes' if premises_ok else 'No'} (minimum expected: {min_expected:.1f})\")"
      ],
      "metadata": {
        "colab": {
          "base_uri": "https://localhost:8080/"
        },
        "id": "QF6QozDlLPp1",
        "outputId": "98f23c3a-975b-4621-84ab-44a0a15b34c1"
      },
      "execution_count": 38,
      "outputs": [
        {
          "output_type": "stream",
          "name": "stdout",
          "text": [
            "   Standard Error AD group: 0.000210\n",
            "   Standard Error PSA group: 0.000863\n",
            "   Premise fulfilled: Yes (minimum expected: 420.0)\n"
          ]
        }
      ]
    },
    {
      "cell_type": "markdown",
      "source": [
        "# 3. Necessary sample size calculation"
      ],
      "metadata": {
        "id": "XoPyK6qrLRT6"
      }
    },
    {
      "cell_type": "code",
      "source": [
        "min_detectable_effect = 0.01\n",
        "\n",
        "effect_size = proportion_effectsize(psa_rate, psa_rate + min_detectable_effect)\n",
        "\n",
        "analysis = power.NormalIndPower()\n",
        "\n",
        "required_n = analysis.solve_power(\n",
        "    effect_size=effect_size,\n",
        "    power=0.8,\n",
        "    alpha=0.05,\n",
        "    alternative='two-sided'\n",
        ")\n",
        "\n",
        "print(f\"   To detect 1% differece:\")\n",
        "print(f\"   • Necessary size: {required_n:.0f} per group\")\n",
        "print(f\"   • Current Size: {min(ad_total, psa_total):,} per group\")\n",
        "print(f\"   • Status: {'Adequate' if min(ad_total, psa_total) >= required_n else 'Insufficient'}\")"
      ],
      "metadata": {
        "colab": {
          "base_uri": "https://localhost:8080/"
        },
        "id": "cjM4wwaVKP8v",
        "outputId": "caf32cc6-0ea8-4301-a096-959ff36d3f9c"
      },
      "execution_count": 33,
      "outputs": [
        {
          "output_type": "stream",
          "name": "stdout",
          "text": [
            "   To detect 1% differece:\n",
            "   • Necessary size: 3464 per group\n",
            "   • Current Size: 23,524 per group\n",
            "   • Status: Adequate\n"
          ]
        }
      ]
    },
    {
      "cell_type": "markdown",
      "source": [
        "# 4. Summary"
      ],
      "metadata": {
        "id": "VNbkMY1XLWjb"
      }
    },
    {
      "cell_type": "code",
      "source": [
        "print(f\"Performance:\")\n",
        "print(f\"   • AD: {ad_rate:.1%} ({ad_successes:,}/{ad_total:,})\")\n",
        "print(f\"   • PSA: {psa_rate:.1%} ({psa_successes:,}/{psa_total:,})\")\n",
        "print(f\"   • Lift: {lift:+.1f}%\")\n",
        "\n",
        "print(f\"\\n Statistic Significance\")\n",
        "print(f\"   • P-value: {p_value:.16f}\")\n",
        "print(f\"   • Result: {'Significant' if p_value < 0.05 else 'Non significant'}\")\n",
        "print(f\"   • Effect: {effect_interpretation}\")\n",
        "\n",
        "print(f\"\\n Reliability:\")\n",
        "print(f\"   • Statistic Power: {observed_power:.1%}\")\n",
        "print(f\"   • Premise: {'Fulfilled' if premises_ok else 'Not fulfilled'}\")\n",
        "\n",
        "print(f\"\\n Recommendation:\")\n",
        "if p_value < 0.05 and observed_power >= 0.8:\n",
        "    if ad_rate > psa_rate:\n",
        "        recommendation = \"IMPROVE AD group - Reliable and Significant Result\"\n",
        "    else:\n",
        "        recommendation = \"KEEP PSA group - PSA is significantly better\"\n",
        "elif p_value >= 0.05:\n",
        "    recommendation = \"PROCEED TEST - No significant difference\"\n",
        "else:\n",
        "    recommendation = \"INCREASE SAMPLE - Low statistic power\"\n",
        "\n",
        "print(f\"   {recommendation}\")"
      ],
      "metadata": {
        "colab": {
          "base_uri": "https://localhost:8080/"
        },
        "id": "MjhHIy_0KSbc",
        "outputId": "aa2a2aff-33c1-44e2-caee-cae565762c8b"
      },
      "execution_count": 37,
      "outputs": [
        {
          "output_type": "stream",
          "name": "stdout",
          "text": [
            "Performance:\n",
            "   • AD: 2.6% (14,423/564,577)\n",
            "   • PSA: 1.8% (420/23,524)\n",
            "   • Lift: +43.1%\n",
            "\n",
            " Statistic Significance\n",
            "   • P-value: 0.0000000000001705\n",
            "   • Result: Significant\n",
            "   • Effect: Very Small\n",
            "\n",
            " Reliability:\n",
            "   • Statistic Power: 100.0%\n",
            "   • Premise: Fulfilled\n",
            "\n",
            " Recommendation:\n",
            "   IMPROVE AD group - Reliable and Significant Result\n"
          ]
        }
      ]
    }
  ]
}